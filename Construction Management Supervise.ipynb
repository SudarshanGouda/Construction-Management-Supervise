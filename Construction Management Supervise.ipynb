{
 "cells": [
  {
   "cell_type": "markdown",
   "id": "c2668eae",
   "metadata": {},
   "source": [
    "# Construction Management Supervise"
   ]
  },
  {
   "cell_type": "code",
   "execution_count": 19,
   "id": "00fd801d",
   "metadata": {},
   "outputs": [],
   "source": [
    "import numpy as np\n",
    "import pandas as pd\n",
    "import matplotlib.pyplot as plt\n",
    "import seaborn as sns\n",
    "import warnings\n",
    "warnings.filterwarnings('ignore')"
   ]
  },
  {
   "cell_type": "markdown",
   "id": "66b65aa9",
   "metadata": {},
   "source": [
    "## Importing Data"
   ]
  },
  {
   "cell_type": "code",
   "execution_count": 20,
   "id": "4ffd3eec",
   "metadata": {},
   "outputs": [],
   "source": [
    "df_raw= pd.read_csv('TRAIN.txt',sep=',')"
   ]
  },
  {
   "cell_type": "code",
   "execution_count": 21,
   "id": "0fff0637",
   "metadata": {},
   "outputs": [
    {
     "data": {
      "text/html": [
       "<div>\n",
       "<style scoped>\n",
       "    .dataframe tbody tr th:only-of-type {\n",
       "        vertical-align: middle;\n",
       "    }\n",
       "\n",
       "    .dataframe tbody tr th {\n",
       "        vertical-align: top;\n",
       "    }\n",
       "\n",
       "    .dataframe thead th {\n",
       "        text-align: right;\n",
       "    }\n",
       "</style>\n",
       "<table border=\"1\" class=\"dataframe\">\n",
       "  <thead>\n",
       "    <tr style=\"text-align: right;\">\n",
       "      <th></th>\n",
       "      <th>Unnamed: 0</th>\n",
       "      <th>built_area</th>\n",
       "      <th>modul_price</th>\n",
       "      <th>weeks_duration</th>\n",
       "      <th>DETACHED</th>\n",
       "      <th>COLLECTIVE</th>\n",
       "      <th>COMMERCIAL</th>\n",
       "      <th>OTHERS</th>\n",
       "      <th>DELAYED</th>\n",
       "    </tr>\n",
       "  </thead>\n",
       "  <tbody>\n",
       "    <tr>\n",
       "      <th>0</th>\n",
       "      <td>0</td>\n",
       "      <td>180.410508</td>\n",
       "      <td>586.869214</td>\n",
       "      <td>44</td>\n",
       "      <td>1</td>\n",
       "      <td>0</td>\n",
       "      <td>0</td>\n",
       "      <td>0</td>\n",
       "      <td>1</td>\n",
       "    </tr>\n",
       "    <tr>\n",
       "      <th>1</th>\n",
       "      <td>1</td>\n",
       "      <td>122.405353</td>\n",
       "      <td>759.672381</td>\n",
       "      <td>44</td>\n",
       "      <td>1</td>\n",
       "      <td>0</td>\n",
       "      <td>0</td>\n",
       "      <td>0</td>\n",
       "      <td>1</td>\n",
       "    </tr>\n",
       "    <tr>\n",
       "      <th>2</th>\n",
       "      <td>2</td>\n",
       "      <td>52.059159</td>\n",
       "      <td>577.329843</td>\n",
       "      <td>13</td>\n",
       "      <td>1</td>\n",
       "      <td>0</td>\n",
       "      <td>0</td>\n",
       "      <td>0</td>\n",
       "      <td>0</td>\n",
       "    </tr>\n",
       "    <tr>\n",
       "      <th>3</th>\n",
       "      <td>3</td>\n",
       "      <td>157.164940</td>\n",
       "      <td>445.906501</td>\n",
       "      <td>45</td>\n",
       "      <td>1</td>\n",
       "      <td>0</td>\n",
       "      <td>0</td>\n",
       "      <td>0</td>\n",
       "      <td>1</td>\n",
       "    </tr>\n",
       "    <tr>\n",
       "      <th>4</th>\n",
       "      <td>4</td>\n",
       "      <td>214.588272</td>\n",
       "      <td>542.401146</td>\n",
       "      <td>15</td>\n",
       "      <td>1</td>\n",
       "      <td>0</td>\n",
       "      <td>0</td>\n",
       "      <td>0</td>\n",
       "      <td>0</td>\n",
       "    </tr>\n",
       "  </tbody>\n",
       "</table>\n",
       "</div>"
      ],
      "text/plain": [
       "   Unnamed: 0  built_area  modul_price  weeks_duration  DETACHED  COLLECTIVE  \\\n",
       "0           0  180.410508   586.869214              44         1           0   \n",
       "1           1  122.405353   759.672381              44         1           0   \n",
       "2           2   52.059159   577.329843              13         1           0   \n",
       "3           3  157.164940   445.906501              45         1           0   \n",
       "4           4  214.588272   542.401146              15         1           0   \n",
       "\n",
       "   COMMERCIAL  OTHERS  DELAYED  \n",
       "0           0       0        1  \n",
       "1           0       0        1  \n",
       "2           0       0        0  \n",
       "3           0       0        1  \n",
       "4           0       0        0  "
      ]
     },
     "execution_count": 21,
     "metadata": {},
     "output_type": "execute_result"
    }
   ],
   "source": [
    "df_raw.head()"
   ]
  },
  {
   "cell_type": "code",
   "execution_count": 22,
   "id": "9049e33e",
   "metadata": {},
   "outputs": [],
   "source": [
    "df=df_raw.copy()"
   ]
  },
  {
   "cell_type": "code",
   "execution_count": 23,
   "id": "63fbdf91",
   "metadata": {},
   "outputs": [],
   "source": [
    "df.drop('Unnamed: 0',axis=1,inplace=True)"
   ]
  },
  {
   "cell_type": "code",
   "execution_count": 24,
   "id": "d66a5cec",
   "metadata": {},
   "outputs": [
    {
     "data": {
      "text/html": [
       "<div>\n",
       "<style scoped>\n",
       "    .dataframe tbody tr th:only-of-type {\n",
       "        vertical-align: middle;\n",
       "    }\n",
       "\n",
       "    .dataframe tbody tr th {\n",
       "        vertical-align: top;\n",
       "    }\n",
       "\n",
       "    .dataframe thead th {\n",
       "        text-align: right;\n",
       "    }\n",
       "</style>\n",
       "<table border=\"1\" class=\"dataframe\">\n",
       "  <thead>\n",
       "    <tr style=\"text-align: right;\">\n",
       "      <th></th>\n",
       "      <th>built_area</th>\n",
       "      <th>modul_price</th>\n",
       "      <th>weeks_duration</th>\n",
       "      <th>DETACHED</th>\n",
       "      <th>COLLECTIVE</th>\n",
       "      <th>COMMERCIAL</th>\n",
       "      <th>OTHERS</th>\n",
       "      <th>DELAYED</th>\n",
       "    </tr>\n",
       "  </thead>\n",
       "  <tbody>\n",
       "    <tr>\n",
       "      <th>0</th>\n",
       "      <td>180.410508</td>\n",
       "      <td>586.869214</td>\n",
       "      <td>44</td>\n",
       "      <td>1</td>\n",
       "      <td>0</td>\n",
       "      <td>0</td>\n",
       "      <td>0</td>\n",
       "      <td>1</td>\n",
       "    </tr>\n",
       "    <tr>\n",
       "      <th>1</th>\n",
       "      <td>122.405353</td>\n",
       "      <td>759.672381</td>\n",
       "      <td>44</td>\n",
       "      <td>1</td>\n",
       "      <td>0</td>\n",
       "      <td>0</td>\n",
       "      <td>0</td>\n",
       "      <td>1</td>\n",
       "    </tr>\n",
       "    <tr>\n",
       "      <th>2</th>\n",
       "      <td>52.059159</td>\n",
       "      <td>577.329843</td>\n",
       "      <td>13</td>\n",
       "      <td>1</td>\n",
       "      <td>0</td>\n",
       "      <td>0</td>\n",
       "      <td>0</td>\n",
       "      <td>0</td>\n",
       "    </tr>\n",
       "    <tr>\n",
       "      <th>3</th>\n",
       "      <td>157.164940</td>\n",
       "      <td>445.906501</td>\n",
       "      <td>45</td>\n",
       "      <td>1</td>\n",
       "      <td>0</td>\n",
       "      <td>0</td>\n",
       "      <td>0</td>\n",
       "      <td>1</td>\n",
       "    </tr>\n",
       "    <tr>\n",
       "      <th>4</th>\n",
       "      <td>214.588272</td>\n",
       "      <td>542.401146</td>\n",
       "      <td>15</td>\n",
       "      <td>1</td>\n",
       "      <td>0</td>\n",
       "      <td>0</td>\n",
       "      <td>0</td>\n",
       "      <td>0</td>\n",
       "    </tr>\n",
       "  </tbody>\n",
       "</table>\n",
       "</div>"
      ],
      "text/plain": [
       "   built_area  modul_price  weeks_duration  DETACHED  COLLECTIVE  COMMERCIAL  \\\n",
       "0  180.410508   586.869214              44         1           0           0   \n",
       "1  122.405353   759.672381              44         1           0           0   \n",
       "2   52.059159   577.329843              13         1           0           0   \n",
       "3  157.164940   445.906501              45         1           0           0   \n",
       "4  214.588272   542.401146              15         1           0           0   \n",
       "\n",
       "   OTHERS  DELAYED  \n",
       "0       0        1  \n",
       "1       0        1  \n",
       "2       0        0  \n",
       "3       0        1  \n",
       "4       0        0  "
      ]
     },
     "execution_count": 24,
     "metadata": {},
     "output_type": "execute_result"
    }
   ],
   "source": [
    "df.head()"
   ]
  },
  {
   "cell_type": "markdown",
   "id": "35cc0ed9",
   "metadata": {},
   "source": [
    "## Data Preprocessing"
   ]
  },
  {
   "cell_type": "code",
   "execution_count": 25,
   "id": "a01b5826",
   "metadata": {},
   "outputs": [
    {
     "name": "stdout",
     "output_type": "stream",
     "text": [
      "<class 'pandas.core.frame.DataFrame'>\n",
      "RangeIndex: 3530 entries, 0 to 3529\n",
      "Data columns (total 8 columns):\n",
      " #   Column          Non-Null Count  Dtype  \n",
      "---  ------          --------------  -----  \n",
      " 0   built_area      3530 non-null   float64\n",
      " 1   modul_price     3530 non-null   float64\n",
      " 2   weeks_duration  3530 non-null   int64  \n",
      " 3   DETACHED        3530 non-null   int64  \n",
      " 4   COLLECTIVE      3530 non-null   int64  \n",
      " 5   COMMERCIAL      3530 non-null   int64  \n",
      " 6   OTHERS          3530 non-null   int64  \n",
      " 7   DELAYED         3530 non-null   int64  \n",
      "dtypes: float64(2), int64(6)\n",
      "memory usage: 220.8 KB\n"
     ]
    }
   ],
   "source": [
    "df.info()"
   ]
  },
  {
   "cell_type": "code",
   "execution_count": 26,
   "id": "19c80917",
   "metadata": {},
   "outputs": [
    {
     "data": {
      "text/plain": [
       "built_area        0\n",
       "modul_price       0\n",
       "weeks_duration    0\n",
       "DETACHED          0\n",
       "COLLECTIVE        0\n",
       "COMMERCIAL        0\n",
       "OTHERS            0\n",
       "DELAYED           0\n",
       "dtype: int64"
      ]
     },
     "execution_count": 26,
     "metadata": {},
     "output_type": "execute_result"
    }
   ],
   "source": [
    "df.isna().sum()"
   ]
  },
  {
   "cell_type": "code",
   "execution_count": 27,
   "id": "b82e097c",
   "metadata": {},
   "outputs": [
    {
     "data": {
      "text/html": [
       "<div>\n",
       "<style scoped>\n",
       "    .dataframe tbody tr th:only-of-type {\n",
       "        vertical-align: middle;\n",
       "    }\n",
       "\n",
       "    .dataframe tbody tr th {\n",
       "        vertical-align: top;\n",
       "    }\n",
       "\n",
       "    .dataframe thead th {\n",
       "        text-align: right;\n",
       "    }\n",
       "</style>\n",
       "<table border=\"1\" class=\"dataframe\">\n",
       "  <thead>\n",
       "    <tr style=\"text-align: right;\">\n",
       "      <th></th>\n",
       "      <th>count</th>\n",
       "      <th>mean</th>\n",
       "      <th>std</th>\n",
       "      <th>min</th>\n",
       "      <th>25%</th>\n",
       "      <th>50%</th>\n",
       "      <th>75%</th>\n",
       "      <th>max</th>\n",
       "    </tr>\n",
       "  </thead>\n",
       "  <tbody>\n",
       "    <tr>\n",
       "      <th>built_area</th>\n",
       "      <td>3530.0</td>\n",
       "      <td>8514.937177</td>\n",
       "      <td>5881.154888</td>\n",
       "      <td>50.389489</td>\n",
       "      <td>3786.373896</td>\n",
       "      <td>8280.485314</td>\n",
       "      <td>12466.211543</td>\n",
       "      <td>28463.142073</td>\n",
       "    </tr>\n",
       "    <tr>\n",
       "      <th>modul_price</th>\n",
       "      <td>3530.0</td>\n",
       "      <td>730.406773</td>\n",
       "      <td>247.035205</td>\n",
       "      <td>184.518878</td>\n",
       "      <td>563.545790</td>\n",
       "      <td>701.690692</td>\n",
       "      <td>872.719814</td>\n",
       "      <td>1962.359114</td>\n",
       "    </tr>\n",
       "    <tr>\n",
       "      <th>weeks_duration</th>\n",
       "      <td>3530.0</td>\n",
       "      <td>54.016431</td>\n",
       "      <td>20.411681</td>\n",
       "      <td>13.000000</td>\n",
       "      <td>38.000000</td>\n",
       "      <td>52.000000</td>\n",
       "      <td>69.750000</td>\n",
       "      <td>124.000000</td>\n",
       "    </tr>\n",
       "    <tr>\n",
       "      <th>DETACHED</th>\n",
       "      <td>3530.0</td>\n",
       "      <td>0.116431</td>\n",
       "      <td>0.320786</td>\n",
       "      <td>0.000000</td>\n",
       "      <td>0.000000</td>\n",
       "      <td>0.000000</td>\n",
       "      <td>0.000000</td>\n",
       "      <td>1.000000</td>\n",
       "    </tr>\n",
       "    <tr>\n",
       "      <th>COLLECTIVE</th>\n",
       "      <td>3530.0</td>\n",
       "      <td>0.365156</td>\n",
       "      <td>0.481542</td>\n",
       "      <td>0.000000</td>\n",
       "      <td>0.000000</td>\n",
       "      <td>0.000000</td>\n",
       "      <td>1.000000</td>\n",
       "      <td>1.000000</td>\n",
       "    </tr>\n",
       "    <tr>\n",
       "      <th>COMMERCIAL</th>\n",
       "      <td>3530.0</td>\n",
       "      <td>0.384703</td>\n",
       "      <td>0.486594</td>\n",
       "      <td>0.000000</td>\n",
       "      <td>0.000000</td>\n",
       "      <td>0.000000</td>\n",
       "      <td>1.000000</td>\n",
       "      <td>1.000000</td>\n",
       "    </tr>\n",
       "    <tr>\n",
       "      <th>OTHERS</th>\n",
       "      <td>3530.0</td>\n",
       "      <td>0.133711</td>\n",
       "      <td>0.340390</td>\n",
       "      <td>0.000000</td>\n",
       "      <td>0.000000</td>\n",
       "      <td>0.000000</td>\n",
       "      <td>0.000000</td>\n",
       "      <td>1.000000</td>\n",
       "    </tr>\n",
       "    <tr>\n",
       "      <th>DELAYED</th>\n",
       "      <td>3530.0</td>\n",
       "      <td>0.580737</td>\n",
       "      <td>0.493508</td>\n",
       "      <td>0.000000</td>\n",
       "      <td>0.000000</td>\n",
       "      <td>1.000000</td>\n",
       "      <td>1.000000</td>\n",
       "      <td>1.000000</td>\n",
       "    </tr>\n",
       "  </tbody>\n",
       "</table>\n",
       "</div>"
      ],
      "text/plain": [
       "                 count         mean          std         min          25%  \\\n",
       "built_area      3530.0  8514.937177  5881.154888   50.389489  3786.373896   \n",
       "modul_price     3530.0   730.406773   247.035205  184.518878   563.545790   \n",
       "weeks_duration  3530.0    54.016431    20.411681   13.000000    38.000000   \n",
       "DETACHED        3530.0     0.116431     0.320786    0.000000     0.000000   \n",
       "COLLECTIVE      3530.0     0.365156     0.481542    0.000000     0.000000   \n",
       "COMMERCIAL      3530.0     0.384703     0.486594    0.000000     0.000000   \n",
       "OTHERS          3530.0     0.133711     0.340390    0.000000     0.000000   \n",
       "DELAYED         3530.0     0.580737     0.493508    0.000000     0.000000   \n",
       "\n",
       "                        50%           75%           max  \n",
       "built_area      8280.485314  12466.211543  28463.142073  \n",
       "modul_price      701.690692    872.719814   1962.359114  \n",
       "weeks_duration    52.000000     69.750000    124.000000  \n",
       "DETACHED           0.000000      0.000000      1.000000  \n",
       "COLLECTIVE         0.000000      1.000000      1.000000  \n",
       "COMMERCIAL         0.000000      1.000000      1.000000  \n",
       "OTHERS             0.000000      0.000000      1.000000  \n",
       "DELAYED            1.000000      1.000000      1.000000  "
      ]
     },
     "execution_count": 27,
     "metadata": {},
     "output_type": "execute_result"
    }
   ],
   "source": [
    "df.describe().T"
   ]
  },
  {
   "cell_type": "markdown",
   "id": "299b9b2a",
   "metadata": {},
   "source": [
    "## EDA"
   ]
  },
  {
   "cell_type": "code",
   "execution_count": 28,
   "id": "d14d36a8",
   "metadata": {
    "scrolled": false
   },
   "outputs": [
    {
     "data": {
      "image/png": "[encoded data removed]",
      "text/plain": [
       "<Figure size 432x288 with 1 Axes>"
      ]
     },
     "metadata": {
      "needs_background": "light"
     },
     "output_type": "display_data"
    },
    {
     "data": {
      "image/png": "[encoded data removed]",
      "text/plain": [
       "<Figure size 432x288 with 1 Axes>"
      ]
     },
     "metadata": {
      "needs_background": "light"
     },
     "output_type": "display_data"
    },
    {
     "data": {
      "image/png": "[encoded data removed]",
      "text/plain": [
       "<Figure size 432x288 with 1 Axes>"
      ]
     },
     "metadata": {
      "needs_background": "light"
     },
     "output_type": "display_data"
    },
    {
     "data": {
      "image/png": "[encoded data removed]",
      "text/plain": [
       "<Figure size 432x288 with 1 Axes>"
      ]
     },
     "metadata": {
      "needs_background": "light"
     },
     "output_type": "display_data"
    },
    {
     "data": {
      "image/png": "[encoded data removed]",
      "text/plain": [
       "<Figure size 432x288 with 1 Axes>"
      ]
     },
     "metadata": {
      "needs_background": "light"
     },
     "output_type": "display_data"
    },
    {
     "data": {
      "image/png": "[encoded data removed]",
      "text/plain": [
       "<Figure size 432x288 with 1 Axes>"
      ]
     },
     "metadata": {
      "needs_background": "light"
     },
     "output_type": "display_data"
    },
    {
     "data": {
      "image/png": "[encoded data removed]",
      "text/plain": [
       "<Figure size 432x288 with 1 Axes>"
      ]
     },
     "metadata": {
      "needs_background": "light"
     },
     "output_type": "display_data"
    },
    {
     "data": {
      "image/png": "[encoded data removed]",
      "text/plain": [
       "<Figure size 432x288 with 1 Axes>"
      ]
     },
     "metadata": {
      "needs_background": "light"
     },
     "output_type": "display_data"
    }
   ],
   "source": [
    "for i in df.columns:\n",
    "    sns.distplot(df[i])\n",
    "    plt.show()"
   ]
  },
  {
   "cell_type": "code",
   "execution_count": 29,
   "id": "13354c12",
   "metadata": {
    "scrolled": true
   },
   "outputs": [
    {
     "data": {
      "text/plain": [
       "(3530, 8)"
      ]
     },
     "execution_count": 29,
     "metadata": {},
     "output_type": "execute_result"
    }
   ],
   "source": [
    "df.shape"
   ]
  },
  {
   "cell_type": "code",
   "execution_count": 30,
   "id": "9b1403db",
   "metadata": {},
   "outputs": [],
   "source": [
    "from scipy import stats"
   ]
  },
  {
   "cell_type": "code",
   "execution_count": 31,
   "id": "3c3688b4",
   "metadata": {},
   "outputs": [],
   "source": [
    "df=df[(np.abs(stats.zscore(df))<3).all(axis=1)]"
   ]
  },
  {
   "cell_type": "code",
   "execution_count": 32,
   "id": "ef57b88d",
   "metadata": {},
   "outputs": [
    {
     "data": {
      "text/plain": [
       "(3478, 8)"
      ]
     },
     "execution_count": 32,
     "metadata": {},
     "output_type": "execute_result"
    }
   ],
   "source": [
    "df.shape"
   ]
  },
  {
   "cell_type": "code",
   "execution_count": 36,
   "id": "4074221d",
   "metadata": {},
   "outputs": [
    {
     "data": {
      "text/plain": [
       "<AxesSubplot:xlabel='DELAYED', ylabel='count'>"
      ]
     },
     "execution_count": 36,
     "metadata": {},
     "output_type": "execute_result"
    },
    {
     "data": {
      "image/png": "[encoded data removed]",
      "text/plain": [
       "<Figure size 432x288 with 1 Axes>"
      ]
     },
     "metadata": {
      "needs_background": "light"
     },
     "output_type": "display_data"
    }
   ],
   "source": [
    "sns.countplot(df['DELAYED'])"
   ]
  },
  {
   "cell_type": "markdown",
   "id": "3cb74cc5",
   "metadata": {},
   "source": [
    "## Split Data"
   ]
  },
  {
   "cell_type": "code",
   "execution_count": 33,
   "id": "4076299a",
   "metadata": {},
   "outputs": [],
   "source": [
    "from sklearn.model_selection import train_test_split"
   ]
  },
  {
   "cell_type": "code",
   "execution_count": 34,
   "id": "4c99f56a",
   "metadata": {},
   "outputs": [],
   "source": [
    "X=df.drop('DELAYED',axis=1)\n",
    "y=df['DELAYED']"
   ]
  },
  {
   "cell_type": "code",
   "execution_count": 35,
   "id": "88698751",
   "metadata": {},
   "outputs": [],
   "source": [
    "X_train, X_test, y_train, y_test = train_test_split( X, y, test_size=0.3, random_state=42)"
   ]
  },
  {
   "cell_type": "markdown",
   "id": "e7f9d9cb",
   "metadata": {},
   "source": [
    "## Standard Scalar "
   ]
  },
  {
   "cell_type": "code",
   "execution_count": 37,
   "id": "019bad0c",
   "metadata": {},
   "outputs": [],
   "source": [
    "from sklearn.preprocessing import StandardScaler"
   ]
  },
  {
   "cell_type": "code",
   "execution_count": 38,
   "id": "80c4a248",
   "metadata": {},
   "outputs": [],
   "source": [
    "Sc=StandardScaler()"
   ]
  },
  {
   "cell_type": "code",
   "execution_count": 40,
   "id": "20df5b16",
   "metadata": {},
   "outputs": [],
   "source": [
    "X_train=Sc.fit_transform(X_train)\n",
    "X_test=Sc.transform(X_test)"
   ]
  },
  {
   "cell_type": "markdown",
   "id": "5572ebac",
   "metadata": {},
   "source": [
    "## Model"
   ]
  },
  {
   "cell_type": "code",
   "execution_count": 39,
   "id": "7eb5df15",
   "metadata": {},
   "outputs": [],
   "source": [
    "from sklearn.linear_model import LogisticRegression\n",
    "from sklearn.metrics import classification_report,confusion_matrix,accuracy_score,roc_auc_score"
   ]
  },
  {
   "cell_type": "code",
   "execution_count": 41,
   "id": "caa199a1",
   "metadata": {},
   "outputs": [
    {
     "name": "stdout",
     "output_type": "stream",
     "text": [
      "confusion_matrix\n",
      "[[135 298]\n",
      " [107 504]]\n",
      "\n",
      "\n",
      "classification_report\n",
      "              precision    recall  f1-score   support\n",
      "\n",
      "           0       0.56      0.31      0.40       433\n",
      "           1       0.63      0.82      0.71       611\n",
      "\n",
      "    accuracy                           0.61      1044\n",
      "   macro avg       0.59      0.57      0.56      1044\n",
      "weighted avg       0.60      0.61      0.58      1044\n",
      "\n",
      "\n",
      "\n",
      "Accuracy: 61.206896551724135\n",
      "\n",
      "\n",
      "ROC Value: 0.5683277707011185\n"
     ]
    }
   ],
   "source": [
    "M1=LogisticRegression()\n",
    "M1.fit(X_train,y_train)\n",
    "P1=M1.predict(X_test)\n",
    "print('confusion_matrix')\n",
    "print(confusion_matrix(y_test,P1))\n",
    "print('\\n')\n",
    "print('classification_report')\n",
    "print(classification_report(y_test,P1))\n",
    "print('\\n')\n",
    "print('Accuracy:',100*accuracy_score(y_test,P1))\n",
    "print('\\n')\n",
    "print('ROC Value:',roc_auc_score(y_test,P1))"
   ]
  },
  {
   "cell_type": "code",
   "execution_count": 42,
   "id": "d7568dca",
   "metadata": {},
   "outputs": [],
   "source": [
    "from sklearn.tree import DecisionTreeClassifier"
   ]
  },
  {
   "cell_type": "code",
   "execution_count": 43,
   "id": "e737ea22",
   "metadata": {},
   "outputs": [
    {
     "name": "stdout",
     "output_type": "stream",
     "text": [
      "confusion_matrix\n",
      "[[207 226]\n",
      " [237 374]]\n",
      "\n",
      "\n",
      "classification_report\n",
      "              precision    recall  f1-score   support\n",
      "\n",
      "           0       0.47      0.48      0.47       433\n",
      "           1       0.62      0.61      0.62       611\n",
      "\n",
      "    accuracy                           0.56      1044\n",
      "   macro avg       0.54      0.55      0.54      1044\n",
      "weighted avg       0.56      0.56      0.56      1044\n",
      "\n",
      "\n",
      "\n",
      "Accuracy: 55.651340996168585\n",
      "\n",
      "\n",
      "ROC Value: 0.5450856695758666\n"
     ]
    }
   ],
   "source": [
    "M2=DecisionTreeClassifier()\n",
    "M2.fit(X_train,y_train)\n",
    "P2=M2.predict(X_test)\n",
    "print('confusion_matrix')\n",
    "print(confusion_matrix(y_test,P2))\n",
    "print('\\n')\n",
    "print('classification_report')\n",
    "print(classification_report(y_test,P2))\n",
    "print('\\n')\n",
    "print('Accuracy:',100*accuracy_score(y_test,P2))\n",
    "print('\\n')\n",
    "print('ROC Value:',roc_auc_score(y_test,P2))"
   ]
  },
  {
   "cell_type": "code",
   "execution_count": 44,
   "id": "257b7afd",
   "metadata": {},
   "outputs": [],
   "source": [
    "from sklearn.ensemble import RandomForestClassifier"
   ]
  },
  {
   "cell_type": "code",
   "execution_count": 45,
   "id": "90be8b31",
   "metadata": {},
   "outputs": [
    {
     "name": "stdout",
     "output_type": "stream",
     "text": [
      "confusion_matrix\n",
      "[[193 240]\n",
      " [201 410]]\n",
      "\n",
      "\n",
      "classification_report\n",
      "              precision    recall  f1-score   support\n",
      "\n",
      "           0       0.49      0.45      0.47       433\n",
      "           1       0.63      0.67      0.65       611\n",
      "\n",
      "    accuracy                           0.58      1044\n",
      "   macro avg       0.56      0.56      0.56      1044\n",
      "weighted avg       0.57      0.58      0.57      1044\n",
      "\n",
      "\n",
      "\n",
      "Accuracy: 57.758620689655174\n",
      "\n",
      "\n",
      "ROC Value: 0.5583792896209976\n"
     ]
    }
   ],
   "source": [
    "M3=RandomForestClassifier()\n",
    "M3.fit(X_train,y_train)\n",
    "P3=M3.predict(X_test)\n",
    "print('confusion_matrix')\n",
    "print(confusion_matrix(y_test,P3))\n",
    "print('\\n')\n",
    "print('classification_report')\n",
    "print(classification_report(y_test,P3))\n",
    "print('\\n')\n",
    "print('Accuracy:',100*accuracy_score(y_test,P3))\n",
    "print('\\n')\n",
    "print('ROC Value:',roc_auc_score(y_test,P3))"
   ]
  },
  {
   "cell_type": "code",
   "execution_count": 46,
   "id": "7b5ce723",
   "metadata": {},
   "outputs": [],
   "source": [
    "from sklearn.svm import SVC"
   ]
  },
  {
   "cell_type": "code",
   "execution_count": 47,
   "id": "20a78bdf",
   "metadata": {},
   "outputs": [
    {
     "name": "stdout",
     "output_type": "stream",
     "text": [
      "confusion_matrix\n",
      "[[109 324]\n",
      " [ 78 533]]\n",
      "\n",
      "\n",
      "classification_report\n",
      "              precision    recall  f1-score   support\n",
      "\n",
      "           0       0.58      0.25      0.35       433\n",
      "           1       0.62      0.87      0.73       611\n",
      "\n",
      "    accuracy                           0.61      1044\n",
      "   macro avg       0.60      0.56      0.54      1044\n",
      "weighted avg       0.61      0.61      0.57      1044\n",
      "\n",
      "\n",
      "\n",
      "Accuracy: 61.49425287356321\n",
      "\n",
      "\n",
      "ROC Value: 0.5620362635742715\n"
     ]
    }
   ],
   "source": [
    "M4=SVC()\n",
    "M4.fit(X_train,y_train)\n",
    "P4=M4.predict(X_test)\n",
    "print('confusion_matrix')\n",
    "print(confusion_matrix(y_test,P4))\n",
    "print('\\n')\n",
    "print('classification_report')\n",
    "print(classification_report(y_test,P4))\n",
    "print('\\n')\n",
    "print('Accuracy:',100*accuracy_score(y_test,P4))\n",
    "print('\\n')\n",
    "print('ROC Value:',roc_auc_score(y_test,P4))"
   ]
  },
  {
   "cell_type": "code",
   "execution_count": 48,
   "id": "387a9580",
   "metadata": {},
   "outputs": [],
   "source": [
    "from sklearn.neighbors import KNeighborsClassifier"
   ]
  },
  {
   "cell_type": "code",
   "execution_count": 49,
   "id": "0b41fd0e",
   "metadata": {},
   "outputs": [
    {
     "data": {
      "text/plain": [
       "Text(0, 0.5, 'Error Rate')"
      ]
     },
     "execution_count": 49,
     "metadata": {},
     "output_type": "execute_result"
    },
    {
     "data": {
      "image/png": "[encoded data removed]",
      "text/plain": [
       "<Figure size 720x720 with 1 Axes>"
      ]
     },
     "metadata": {
      "needs_background": "light"
     },
     "output_type": "display_data"
    }
   ],
   "source": [
    "error_Mat=[]\n",
    "for i in range (1,50):\n",
    "    knn=KNeighborsClassifier(n_neighbors=i)\n",
    "    knn.fit(X_train,y_train)\n",
    "    predict_i=knn.predict(X_test)\n",
    "    error_Mat.append(np.mean(predict_i != y_test))\n",
    "plt.figure(figsize=(10,10))\n",
    "plt.plot(range(1,50),error_Mat,color='blue', linestyle='dashed', marker='o',\n",
    "         markerfacecolor='red', markersize=10)\n",
    "plt.title('Error Rate vs. K Value')\n",
    "plt.xlabel('K')\n",
    "plt.ylabel('Error Rate')"
   ]
  },
  {
   "cell_type": "code",
   "execution_count": 50,
   "id": "48087be3",
   "metadata": {},
   "outputs": [
    {
     "name": "stdout",
     "output_type": "stream",
     "text": [
      "confusion_matrix\n",
      "[[180 253]\n",
      " [143 468]]\n",
      "\n",
      "\n",
      "classification_report\n",
      "              precision    recall  f1-score   support\n",
      "\n",
      "           0       0.56      0.42      0.48       433\n",
      "           1       0.65      0.77      0.70       611\n",
      "\n",
      "    accuracy                           0.62      1044\n",
      "   macro avg       0.60      0.59      0.59      1044\n",
      "weighted avg       0.61      0.62      0.61      1044\n",
      "\n",
      "\n",
      "\n",
      "Accuracy: 62.06896551724138\n",
      "\n",
      "\n",
      "ROC Value: 0.5908309173996363\n"
     ]
    }
   ],
   "source": [
    "M5=KNeighborsClassifier(n_neighbors=29)\n",
    "M5.fit(X_train,y_train)\n",
    "P5=M5.predict(X_test)\n",
    "print('confusion_matrix')\n",
    "print(confusion_matrix(y_test,P5))\n",
    "print('\\n')\n",
    "print('classification_report')\n",
    "print(classification_report(y_test,P5))\n",
    "print('\\n')\n",
    "print('Accuracy:',100*accuracy_score(y_test,P5))\n",
    "print('\\n')\n",
    "print('ROC Value:',roc_auc_score(y_test,P5))"
   ]
  }
 ],
 "metadata": {
  "kernelspec": {
   "display_name": "Python 3 (ipykernel)",
   "language": "python",
   "name": "python3"
  },
  "language_info": {
   "codemirror_mode": {
    "name": "ipython",
    "version": 3
   },
   "file_extension": ".py",
   "mimetype": "text/x-python",
   "name": "python",
   "nbconvert_exporter": "python",
   "pygments_lexer": "ipython3",
   "version": "3.9.12"
  }
 },
 "nbformat": 4,
 "nbformat_minor": 5
}
